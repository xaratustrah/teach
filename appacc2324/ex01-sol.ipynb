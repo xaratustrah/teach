{
 "cells": [
  {
   "cell_type": "markdown",
   "metadata": {},
   "source": [
    "# Applications of Accelerators 2023/2024"
   ]
  },
  {
   "cell_type": "markdown",
   "metadata": {},
   "source": [
    "## Ex01"
   ]
  },
  {
   "cell_type": "markdown",
   "metadata": {},
   "source": [
    "Q1- [1 point] Write in your own words, which force is most suitable for particle acceleration and why?"
   ]
  },
  {
   "cell_type": "markdown",
   "metadata": {},
   "source": [
    "<font color='blue'>Electromagnetic force and the gravitational force have the proper range compared to the weak and strong forces. But between the electromagnetic and gravitational force, only the former has significant relative strength, that means it is basically the only possible choice for acceleration. This latter point then restricts us to choose charged particles only for acceleration. Among the available charaged particles with significant life time, again the choice is limited to electrons and ions (including the proton).</font>"
   ]
  },
  {
   "cell_type": "markdown",
   "metadata": {},
   "source": [
    "Q2- [1 point] Calculate the force acted on a neutron that travels at the speed of 0.4c, affected only by a magnetic field of 1.5 [T]."
   ]
  },
  {
   "cell_type": "markdown",
   "metadata": {},
   "source": [
    "<font color='blue'>Neutron is not a charged particle, so F = 0 ---> a neutron goes to a bar, asks how much for a beer, the barman says: for you no charge! :-)</font>"
   ]
  },
  {
   "cell_type": "markdown",
   "metadata": {},
   "source": [
    "Q3- [1 point] Identify the heaviest of the leptons and the heaviest of the quarks and find out their mass by looking up in table / internet and write it here with units. "
   ]
  },
  {
   "cell_type": "markdown",
   "metadata": {},
   "source": [
    "<font color='blue'>Heaviest Lepton is tauon --> mass 1.7 GeV/c^2\n",
    "Heaviest quark is Top Quark --> mass 172 GeV/c^2</font>"
   ]
  },
  {
   "cell_type": "markdown",
   "metadata": {},
   "source": [
    "Q4- [1 point] Give a rough estimate how much heavier is a proton compared to an electron?"
   ]
  },
  {
   "cell_type": "markdown",
   "metadata": {},
   "source": [
    "<font color='blue'>2000 times</font>"
   ]
  },
  {
   "cell_type": "markdown",
   "metadata": {},
   "source": [
    "Q5- [1 point] Write *very short* definitions and classify the following concepts in groups:\n",
    "\n",
    "Fermions\n",
    "Bosons\n",
    "Mesons\n",
    "Hadrons\n",
    "Baryons\n",
    "Leptons"
   ]
  },
  {
   "cell_type": "markdown",
   "metadata": {},
   "source": [
    "<font color='blue'>\n",
    "- Fermions: particles with spin of multiple of 1/2\n",
    "- Bosons: particles with integer spin\n",
    "- Mesons: systems of 2 quarks\n",
    "- Baryons: systems of 3 quarks\n",
    "- Leptons: elementary fermions that do not get affected by strong interaction\n",
    "\n",
    "leptons, baryons and fermions but mesons are bosons\n",
    "</font>"
   ]
  },
  {
   "cell_type": "markdown",
   "metadata": {},
   "source": [
    "Q6- [1 point] Which one of the elementary fermions is usually accelerated in an accelerator?"
   ]
  },
  {
   "cell_type": "markdown",
   "metadata": {},
   "source": [
    "<font color='blue'>electron</font>"
   ]
  },
  {
   "cell_type": "markdown",
   "metadata": {},
   "source": [
    "Q7- [1 point] Up and down quarks have a mass of the order 5 [$MeV/c^2$]. Why then is proton so heavy?"
   ]
  },
  {
   "cell_type": "markdown",
   "metadata": {},
   "source": [
    "<font color='blue'>Proton has 3 quarks, that would be about 15 MeV/c^2, but its total mass is much more, that is 938 MeV/c^2. The rest of the mass is the result of strong binding energy of the gluons. Click [here](https://www.forbes.com/sites/startswithabang/2016/08/03/where-does-the-mass-of-a-proton-come-from/?sh=16486e082e1d) for more info.</font>"
   ]
  },
  {
   "cell_type": "markdown",
   "metadata": {},
   "source": [
    "Q8- [1 point] Identify the coolest lepton! (spoiler: it is the muon). What is its mean life time and why do we detect atmospheric muons in the lab?"
   ]
  },
  {
   "cell_type": "markdown",
   "metadata": {},
   "source": [
    "<font color='blue'>muons have a mean lifetime of 2.2us. Please [look here](http://hyperphysics.phy-astr.gsu.edu/hbase/Relativ/muon.html#c1) for more information.\n",
    "</font>"
   ]
  },
  {
   "cell_type": "markdown",
   "metadata": {},
   "source": [
    "Q9- [1 point] A linear accelerator can accelerate protons to 1.4 [TeV]. What is the available CoM energy if we shoot the protons on a fixed Beryllium target for an industrial application? What would be the available CoM energy if we use two such accelerators to form a collider?"
   ]
  },
  {
   "cell_type": "code",
   "execution_count": 11,
   "metadata": {},
   "outputs": [
    {
     "name": "stdout",
     "output_type": "stream",
     "text": [
      "51.24841460962475 [GeV] vs. 2800 [GeV] !!!\n"
     ]
    }
   ],
   "source": [
    "import numpy as np\n",
    "print (f'{np.sqrt(2*1400 * 0.938)} [GeV] vs. {2*1400} [GeV] !!!' )"
   ]
  },
  {
   "cell_type": "markdown",
   "metadata": {},
   "source": [
    "Q10- [1 point] How much voltage is needed to accelerate an electron to an energy of 5e-4 [J]?"
   ]
  },
  {
   "cell_type": "markdown",
   "metadata": {},
   "source": [
    "<font color='blue'>\n",
    "Here is the formula:\n",
    "\n",
    "$$U = \\frac{E}{e}$$\n",
    "\n",
    "</font>"
   ]
  },
  {
   "cell_type": "code",
   "execution_count": 12,
   "metadata": {},
   "outputs": [
    {
     "name": "stdout",
     "output_type": "stream",
     "text": [
      "Required voltage is 3.12e+15 [V]\n"
     ]
    }
   ],
   "source": [
    "from scipy.constants import e\n",
    "U = 5e-4 / e\n",
    "print('Required voltage is {0:.2e} [V]'.format(U))"
   ]
  },
  {
   "cell_type": "markdown",
   "metadata": {},
   "source": [
    "Q11- [2 points] Warmup computational exersize:\n",
    "\n",
    "    Create a GitHUB account.\n",
    "    Write a function in Python code that multiples 2 (two) 3x3 Matrices (ndarray) and returns the result.\n",
    "    Call this function using two randomly generated 3 by 3 matrices and print the results.\n",
    "    Place your code in your GitHUB repository and submit the link in your exercise document. The code can also be in the form of a Jupiter-Notebook on your GitHUB account.\n",
    "\n",
    "Hint: if you have no previous experience with python: it is easy!\n",
    "Hint: if you don't have time to learn python: it doesn't take time!"
   ]
  },
  {
   "cell_type": "code",
   "execution_count": 13,
   "metadata": {},
   "outputs": [],
   "source": [
    "def my_matrix_mult(A, B):\n",
    "    return A*B"
   ]
  },
  {
   "cell_type": "code",
   "execution_count": 14,
   "metadata": {},
   "outputs": [],
   "source": [
    "import numpy as np"
   ]
  },
  {
   "cell_type": "code",
   "execution_count": 15,
   "metadata": {},
   "outputs": [
    {
     "data": {
      "text/plain": [
       "array([6, 2, 2, 0])"
      ]
     },
     "execution_count": 15,
     "metadata": {},
     "output_type": "execute_result"
    }
   ],
   "source": [
    "A = np.random.randint(10, size = 4)\n",
    "A"
   ]
  },
  {
   "cell_type": "code",
   "execution_count": 16,
   "metadata": {},
   "outputs": [
    {
     "data": {
      "text/plain": [
       "array([[6, 2],\n",
       "       [2, 0]])"
      ]
     },
     "execution_count": 16,
     "metadata": {},
     "output_type": "execute_result"
    }
   ],
   "source": [
    "A = np.reshape(A, (2,2))\n",
    "A"
   ]
  },
  {
   "cell_type": "code",
   "execution_count": 17,
   "metadata": {},
   "outputs": [
    {
     "data": {
      "text/plain": [
       "array([2, 1, 1, 7])"
      ]
     },
     "execution_count": 17,
     "metadata": {},
     "output_type": "execute_result"
    }
   ],
   "source": [
    "B = np.random.randint(10, size = 4)\n",
    "B"
   ]
  },
  {
   "cell_type": "code",
   "execution_count": 18,
   "metadata": {},
   "outputs": [
    {
     "data": {
      "text/plain": [
       "array([[2, 1],\n",
       "       [1, 7]])"
      ]
     },
     "execution_count": 18,
     "metadata": {},
     "output_type": "execute_result"
    }
   ],
   "source": [
    "B = np.reshape(B, (2,2))\n",
    "B"
   ]
  },
  {
   "cell_type": "code",
   "execution_count": 19,
   "metadata": {},
   "outputs": [
    {
     "data": {
      "text/plain": [
       "array([[12,  2],\n",
       "       [ 2,  0]])"
      ]
     },
     "execution_count": 19,
     "metadata": {},
     "output_type": "execute_result"
    }
   ],
   "source": [
    "my_matrix_mult(A, B)"
   ]
  },
  {
   "cell_type": "markdown",
   "metadata": {},
   "source": [
    "<font color='blue'>You will get the element by element multiplication, which is not equl to matrix multiplication. But you can use numpy own command for matrix multiplication:</font>"
   ]
  },
  {
   "cell_type": "code",
   "execution_count": 20,
   "metadata": {},
   "outputs": [
    {
     "data": {
      "text/plain": [
       "array([[14, 20],\n",
       "       [ 4,  2]])"
      ]
     },
     "execution_count": 20,
     "metadata": {},
     "output_type": "execute_result"
    }
   ],
   "source": [
    "np.matmul(A, B)"
   ]
  }
 ],
 "metadata": {
  "kernelspec": {
   "display_name": "Python 3.9.13 ('py39')",
   "language": "python",
   "name": "python3"
  },
  "language_info": {
   "codemirror_mode": {
    "name": "ipython",
    "version": 3
   },
   "file_extension": ".py",
   "mimetype": "text/x-python",
   "name": "python",
   "nbconvert_exporter": "python",
   "pygments_lexer": "ipython3",
   "version": "3.11.0"
  },
  "vscode": {
   "interpreter": {
    "hash": "42dff8e0fad4cc34cd0db37ceedf446a4722cfff0b90d66efabf8d2fd60d5d71"
   }
  }
 },
 "nbformat": 4,
 "nbformat_minor": 4
}
