{
 "cells": [
  {
   "cell_type": "markdown",
   "id": "715749f2",
   "metadata": {},
   "source": [
    "# Python fundamental data types"
   ]
  },
  {
   "cell_type": "markdown",
   "id": "2cf9d786-2345-45a6-b722-9b45d8d1ce2f",
   "metadata": {},
   "source": [
    "### These are fundamental data types in Python"
   ]
  },
  {
   "cell_type": "code",
   "execution_count": 1,
   "id": "090c4976",
   "metadata": {},
   "outputs": [],
   "source": [
    "a = 2 # ---> variable"
   ]
  },
  {
   "cell_type": "code",
   "execution_count": 2,
   "id": "16fec340",
   "metadata": {},
   "outputs": [],
   "source": [
    "b = [2,3,'blah', 45] # --> list"
   ]
  },
  {
   "cell_type": "code",
   "execution_count": 3,
   "id": "75e5bdbb",
   "metadata": {},
   "outputs": [],
   "source": [
    "c = {'voltage0':3, 'max_current': 40} # --> dictionary"
   ]
  },
  {
   "cell_type": "code",
   "execution_count": 4,
   "id": "8c395833-f7f1-4787-9d7b-db376125b6ce",
   "metadata": {},
   "outputs": [],
   "source": [
    "d = {3,4,5,6} # --> set"
   ]
  },
  {
   "cell_type": "code",
   "execution_count": 5,
   "id": "ccdb9955-bfb1-4b07-a58d-6b3e1984b29d",
   "metadata": {},
   "outputs": [],
   "source": [
    "e = (2,3) # ---> tuple"
   ]
  },
  {
   "cell_type": "markdown",
   "id": "c84ad711-65d8-4a33-9895-d902cac042d3",
   "metadata": {},
   "source": [
    "From these, the first three (i.e. variables, lists and dictionaries are used a lot)"
   ]
  },
  {
   "cell_type": "markdown",
   "metadata": {},
   "source": [
    "### Not so fundamental data type, but heavily used"
   ]
  },
  {
   "cell_type": "markdown",
   "metadata": {},
   "source": [
    "There is another very famous type which is similar to Lists, but ONLY allows numbers. It is called NDARRAY --> which means n-dimensional array.\n",
    "\n",
    "The only differece is that it is not fundamental so it needs a library import:"
   ]
  },
  {
   "cell_type": "code",
   "execution_count": 6,
   "metadata": {},
   "outputs": [],
   "source": [
    "import numpy as np"
   ]
  },
  {
   "cell_type": "code",
   "execution_count": 7,
   "metadata": {},
   "outputs": [
    {
     "data": {
      "text/plain": [
       "array([ 5,  6,  7,  4, 56,  7])"
      ]
     },
     "execution_count": 7,
     "metadata": {},
     "output_type": "execute_result"
    }
   ],
   "source": [
    "f = np.array([5,6,7,4,56,7]) # ---> ndarray\n",
    "f"
   ]
  },
  {
   "cell_type": "markdown",
   "metadata": {},
   "source": [
    "### Playing with data types"
   ]
  },
  {
   "cell_type": "code",
   "execution_count": 8,
   "id": "556068f9-9f6f-4da3-9d6c-237647c68cb1",
   "metadata": {},
   "outputs": [],
   "source": [
    "# Lists can contain a lot of things\n",
    "\n",
    "g = [2,3,4,8,55, 'sahil', 'cousar', 'caroline']"
   ]
  },
  {
   "cell_type": "code",
   "execution_count": 9,
   "id": "4fae0e76-99d7-4811-ad51-c25b668e0be6",
   "metadata": {},
   "outputs": [
    {
     "name": "stdout",
     "output_type": "stream",
     "text": [
      "2\n",
      "3\n",
      "4\n",
      "8\n",
      "55\n",
      "sahil\n",
      "cousar\n",
      "caroline\n"
     ]
    }
   ],
   "source": [
    "# You can iterate through any list like object\n",
    "\n",
    "for some_element in g:\n",
    "    print(some_element)"
   ]
  },
  {
   "cell_type": "code",
   "execution_count": 10,
   "id": "ea7a5cc4-7835-4e96-86af-c83a8e7d15ae",
   "metadata": {},
   "outputs": [
    {
     "name": "stdout",
     "output_type": "stream",
     "text": [
      "0\n",
      "1\n",
      "2\n",
      "3\n",
      "4\n",
      "5\n",
      "6\n"
     ]
    }
   ],
   "source": [
    "# Another example of List like object\n",
    "\n",
    "for i in range(7):\n",
    "    print(i)"
   ]
  },
  {
   "cell_type": "code",
   "execution_count": 11,
   "id": "1fd7e760-44d3-46c4-9873-e59fff98e932",
   "metadata": {},
   "outputs": [
    {
     "data": {
      "text/plain": [
       "array([ 2,  9, 16, 13,  2, 11,  0,  6, 12,  1,  8,  8,  5,  5,  0, 15,  5,\n",
       "        8, 17, 14])"
      ]
     },
     "execution_count": 11,
     "metadata": {},
     "output_type": "execute_result"
    }
   ],
   "source": [
    "h = np.random.randint(20, size=20)\n",
    "h"
   ]
  },
  {
   "cell_type": "code",
   "execution_count": 12,
   "id": "a2a9610e-7901-4ff4-a401-ea75d234ff4c",
   "metadata": {},
   "outputs": [
    {
     "data": {
      "text/plain": [
       "array([[ 2,  9, 16, 13,  2],\n",
       "       [11,  0,  6, 12,  1],\n",
       "       [ 8,  8,  5,  5,  0],\n",
       "       [15,  5,  8, 17, 14]])"
      ]
     },
     "execution_count": 12,
     "metadata": {},
     "output_type": "execute_result"
    }
   ],
   "source": [
    "np.reshape(h, (4,5))"
   ]
  },
  {
   "cell_type": "code",
   "execution_count": 13,
   "id": "d6ba46ab-19cd-46c5-8c81-0d842a3209c3",
   "metadata": {},
   "outputs": [
    {
     "name": "stdout",
     "output_type": "stream",
     "text": [
      "Hello my friend: 4\n",
      "Hello my friend: 81\n",
      "Hello my friend: 256\n",
      "Hello my friend: 169\n",
      "Hello my friend: 4\n",
      "Hello my friend: 121\n",
      "Hello my friend: 0\n",
      "Hello my friend: 36\n",
      "Hello my friend: 144\n",
      "Hello my friend: 1\n",
      "Hello my friend: 64\n",
      "Hello my friend: 64\n",
      "Hello my friend: 25\n",
      "Hello my friend: 25\n",
      "Hello my friend: 0\n",
      "Hello my friend: 225\n",
      "Hello my friend: 25\n",
      "Hello my friend: 64\n",
      "Hello my friend: 289\n",
      "Hello my friend: 196\n"
     ]
    }
   ],
   "source": [
    "for whateveryouliketocallit in h:\n",
    "    print(f'Hello my friend: {whateveryouliketocallit ** 2}')"
   ]
  },
  {
   "cell_type": "code",
   "execution_count": 14,
   "metadata": {},
   "outputs": [
    {
     "name": "stdout",
     "output_type": "stream",
     "text": [
      "3\n"
     ]
    }
   ],
   "source": [
    "# Playing with the dictionary\n",
    "\n",
    "print(c['voltage0'])"
   ]
  },
  {
   "cell_type": "code",
   "execution_count": 15,
   "metadata": {},
   "outputs": [
    {
     "name": "stdout",
     "output_type": "stream",
     "text": [
      "40\n"
     ]
    }
   ],
   "source": [
    "print(c['max_current'])"
   ]
  },
  {
   "cell_type": "code",
   "execution_count": null,
   "metadata": {},
   "outputs": [],
   "source": []
  }
 ],
 "metadata": {
  "kernelspec": {
   "display_name": "Python 3 (ipykernel)",
   "language": "python",
   "name": "python3"
  },
  "language_info": {
   "codemirror_mode": {
    "name": "ipython",
    "version": 3
   },
   "file_extension": ".py",
   "mimetype": "text/x-python",
   "name": "python",
   "nbconvert_exporter": "python",
   "pygments_lexer": "ipython3",
   "version": "3.11.0"
  }
 },
 "nbformat": 4,
 "nbformat_minor": 5
}
