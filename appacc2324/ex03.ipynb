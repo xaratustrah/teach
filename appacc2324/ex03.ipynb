{
 "cells": [
  {
   "cell_type": "markdown",
   "metadata": {},
   "source": [
    "# Applications of Accelerators 2023/2024"
   ]
  },
  {
   "cell_type": "markdown",
   "metadata": {},
   "source": [
    "## Ex03"
   ]
  },
  {
   "cell_type": "markdown",
   "metadata": {},
   "source": [
    "Q1- Assuming you are using the Diamond Light Source with the circumference of 561.6 [m], for 190 [AMeV] 238-U-28+ calculate:"
   ]
  },
  {
   "cell_type": "markdown",
   "metadata": {},
   "source": [
    "A- [1 point] The magnetic rigidity"
   ]
  },
  {
   "cell_type": "markdown",
   "metadata": {},
   "source": [
    "B- [1 point] Energy loss due to synchrotron radiation per turn"
   ]
  },
  {
   "cell_type": "markdown",
   "metadata": {},
   "source": [
    "C- [1 point] Opening angle of synchrotron radiation in DEGREEs"
   ]
  },
  {
   "cell_type": "markdown",
   "metadata": {},
   "source": [
    "Q2- [3 point] Same as above, but for 410 [MeV/u] 197-Au-77+"
   ]
  },
  {
   "cell_type": "markdown",
   "metadata": {},
   "source": [
    "Q3- [3 point] same as above but for 10 [GeV] electrons"
   ]
  },
  {
   "cell_type": "markdown",
   "metadata": {},
   "source": [
    "Q4- [1 point] You usually need quadrupoles in synchrotrons and transfer lines otherwise you can not transport charged particles. How do people transport neutrons in the European Spallation Source (ESS) inside the pipes until they reach experiments?"
   ]
  },
  {
   "cell_type": "markdown",
   "metadata": {},
   "source": [
    "Q5- [1 point] Write in your own words, what is the advantage of sub-critical reactors and how does an accelerator help with that?"
   ]
  },
  {
   "cell_type": "markdown",
   "metadata": {},
   "source": [
    "Q6- [1 point] Write in your own words, what is beta function?"
   ]
  },
  {
   "cell_type": "markdown",
   "metadata": {},
   "source": [
    "Q7- [1 point] Write in your own words, what is the Bragg peak in accelerator physics and where does it come from?"
   ]
  },
  {
   "cell_type": "markdown",
   "metadata": {},
   "source": [
    "Q8- [1 point] Write a python function with the name of \"get_rigidity\" to calculate the magnetic rigidity and put your code as usual on your GitHUB and provide the link here. Test your code with the results of the previous exercise!\n",
    "\n",
    "Hint : please write as less code lines as possible by using advanced language features like the decorator \"np.vectorize\" and \"class\""
   ]
  },
  {
   "cell_type": "markdown",
   "metadata": {},
   "source": [
    "Q9- [1 point] From the accelerator department, you received some data (see the attached data file: 2016-07-11_ipm_data.txt) from an ionisation beam profile monitor (IPM). Read the file and plot it in blue color on a black grid background. The mark the maximum with a red dot! Code and plot (PNG) as usual on GitHUB.\n",
    "\n",
    "- Hint 1: The program is really short! Use np.genfromtext, matplotlib, savefig etc...\n",
    "- Hint 2: please do not do magic while programming! There is always a command that can actually do what you are planing to do, just use it. Search internet please.\n"
   ]
  }
 ],
 "metadata": {
  "kernelspec": {
   "display_name": "Python 3.10.5 ('pyroot')",
   "language": "python",
   "name": "python3"
  },
  "language_info": {
   "codemirror_mode": {
    "name": "ipython",
    "version": 3
   },
   "file_extension": ".py",
   "mimetype": "text/x-python",
   "name": "python",
   "nbconvert_exporter": "python",
   "pygments_lexer": "ipython3",
   "version": "3.10.13"
  },
  "vscode": {
   "interpreter": {
    "hash": "c6e00576d5ddabaf634c77b8111b310acf1333bcfcc8db07f8f539e64bac67f4"
   }
  }
 },
 "nbformat": 4,
 "nbformat_minor": 4
}
