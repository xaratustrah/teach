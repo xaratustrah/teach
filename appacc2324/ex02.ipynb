{
 "cells": [
  {
   "cell_type": "markdown",
   "metadata": {},
   "source": [
    "# Applications of Accelerators 2023/2024"
   ]
  },
  {
   "cell_type": "markdown",
   "metadata": {},
   "source": [
    "## Ex02"
   ]
  },
  {
   "cell_type": "markdown",
   "metadata": {},
   "source": [
    "Q1- [1 point] Assuming that after a half-life, really half of the radioactive material disintegrates / decays, how many average half-lives does it approximately take, so that 14 grams of 14-C decays?"
   ]
  },
  {
   "cell_type": "markdown",
   "metadata": {},
   "source": [
    "Q2- [1 point] What is the advantage of the Wideröe structure in comparison to the van de Graaff accelerator? How does Wideröe structure manage to gain that advantage? "
   ]
  },
  {
   "cell_type": "markdown",
   "metadata": {},
   "source": [
    "Q3- [1 point] Describe in your words, the relation between energy, radius and magnetic field intensity in a synchrotron."
   ]
  },
  {
   "cell_type": "markdown",
   "metadata": {},
   "source": [
    "Q4- [1 point] what is the difference between the expressions: nucleus, nucleon and nuclide\n"
   ]
  },
  {
   "cell_type": "markdown",
   "metadata": {},
   "source": [
    "Q5- [1 point] Calculate the force acted on a proton that travels at the speed of 0.45c, affected only an electric field of 230 [V/m]."
   ]
  },
  {
   "cell_type": "markdown",
   "metadata": {},
   "source": [
    "Q6- [1 point] A particle has a relativistic gamma of 1.78, what is its speed in [m/s]?"
   ]
  },
  {
   "cell_type": "markdown",
   "metadata": {},
   "source": [
    "Q7- [2 point]: write a super small python class for a particle, don't forget the init, by giving Z and A. this class should have a method which gives the number of neutron back. Instantiate this class with an example."
   ]
  }
 ],
 "metadata": {
  "kernelspec": {
   "display_name": "Python 3.9.13 ('py39')",
   "language": "python",
   "name": "python3"
  },
  "language_info": {
   "codemirror_mode": {
    "name": "ipython",
    "version": 3
   },
   "file_extension": ".py",
   "mimetype": "text/x-python",
   "name": "python",
   "nbconvert_exporter": "python",
   "pygments_lexer": "ipython3",
   "version": "3.11.0"
  },
  "vscode": {
   "interpreter": {
    "hash": "42dff8e0fad4cc34cd0db37ceedf446a4722cfff0b90d66efabf8d2fd60d5d71"
   }
  }
 },
 "nbformat": 4,
 "nbformat_minor": 4
}
