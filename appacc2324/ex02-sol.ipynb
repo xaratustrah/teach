{
 "cells": [
  {
   "cell_type": "markdown",
   "metadata": {},
   "source": [
    "# Applications of Accelerators 2023/2024"
   ]
  },
  {
   "cell_type": "markdown",
   "metadata": {},
   "source": [
    "## Ex02"
   ]
  },
  {
   "cell_type": "markdown",
   "metadata": {},
   "source": [
    "Q1- [1 point] Assuming that after a half-life, really half of the radioactive material disintegrates / decays, how many average half-lives does it approximately take, so that 14 grams of 14-C decays?"
   ]
  },
  {
   "cell_type": "markdown",
   "metadata": {},
   "source": [
    "<font color='blue'>simplifying the calculation helps a lot. 14 grams of 14-C is one mol. one mol is 1 avogadro 6.02e23 we say approximately $10^{24}$ instead. now  we should know how many $2^x$ where we have to obtain x. for this we start with an approximation:\n",
    "\n",
    "$$10^3 \\sim 2^{10}$$\n",
    "\n",
    "now if you like to make left side look like $10^{24}$ you have to exponent both sides with 8. the right side will be $2^{80}$. So the answer is approximately 80 half-lives!</font>"
   ]
  },
  {
   "cell_type": "markdown",
   "metadata": {},
   "source": [
    "Q2- [1 point] What is the advantage of the Wideröe structure in comparison to the van de Graaff accelerator? How does Wideröe structure manage to gain that advantage? "
   ]
  },
  {
   "cell_type": "markdown",
   "metadata": {},
   "source": [
    "<font color='blue'>The advantage is that a huge voltage generator is not needed, a lower but fixed voltage is enough, the only point is the use of an RF voltage to provide the acceleration push at the right time.</font>"
   ]
  },
  {
   "cell_type": "markdown",
   "metadata": {},
   "source": [
    "Q3- [1 point] Describe in your words, the relation between energy, radius and magnetic field intensity in a synchrotron."
   ]
  },
  {
   "cell_type": "markdown",
   "metadata": {},
   "source": [
    "<font color='blue'>Particles are accelerated in the RF gap. As their energies increase, they become more \"rigid\", so they will require a larger orbit radius. In a synchrotron, the magnetic field intensity is increased synchronously in order to \"push back\" the particles to their nominal orbit. So basically magnetic field intensity has to be ramped up as energy increases."
   ]
  },
  {
   "cell_type": "markdown",
   "metadata": {},
   "source": [
    "Q4- [1 point] what is the difference between the expressions: nucleus, nucleon and nuclide\n"
   ]
  },
  {
   "cell_type": "markdown",
   "metadata": {},
   "source": [
    "<font color='blue'>Nucleus it the whole core of an atom. Nucleons are a component of atomic nucleus. Nuclide is a general term for isotopes, or isotones or isobars for that matter.</font>"
   ]
  },
  {
   "cell_type": "markdown",
   "metadata": {},
   "source": [
    "Q5- [1 point] Calculate the force acted on a proton that travels at the speed of 0.45c, affected only an electric field of 230 [V/m]."
   ]
  },
  {
   "cell_type": "code",
   "execution_count": 1,
   "metadata": {},
   "outputs": [
    {
     "name": "stdout",
     "output_type": "stream",
     "text": [
      "Force is 3.6799999999999995e-17 [N]\n"
     ]
    }
   ],
   "source": [
    "# the speed is not relevant here, it is relevant for the force caused by magnetic field\n",
    "q_proton = 1.6e-19 #Coulombs\n",
    "ee = 230 # [V/m]\n",
    "ff = q_proton * ee\n",
    "print(f'Force is {ff} [N]')"
   ]
  },
  {
   "cell_type": "markdown",
   "metadata": {},
   "source": [
    "Q6- [1 point] A particle has a relativistic gamma of 1.78, what is its speed in [m/s]?"
   ]
  },
  {
   "cell_type": "code",
   "execution_count": 2,
   "metadata": {},
   "outputs": [
    {
     "name": "stdout",
     "output_type": "stream",
     "text": [
      "speed is 248010689.60422552 [m/s]\n"
     ]
    }
   ],
   "source": [
    "import numpy as np\n",
    "gamma = 1.78\n",
    "beta = np.sqrt(1-1/gamma**2)\n",
    "print(f'speed is {beta * 299792458} [m/s]')"
   ]
  },
  {
   "cell_type": "markdown",
   "metadata": {},
   "source": [
    "Q7- [2 point]: write a super small python class for a particle, don't forget the init, by giving Z and A. this class should have a method which gives the number of neutron back. Instantiate this class with an example."
   ]
  },
  {
   "cell_type": "code",
   "execution_count": 3,
   "metadata": {},
   "outputs": [],
   "source": [
    "class Nuclide:\n",
    "    def __init__(self, a, z):\n",
    "        self.a = a\n",
    "        self.z = z\n",
    "        \n",
    "    def get_n(self):\n",
    "        return self.a - self.z"
   ]
  },
  {
   "cell_type": "code",
   "execution_count": 4,
   "metadata": {},
   "outputs": [
    {
     "name": "stdout",
     "output_type": "stream",
     "text": [
      "146\n"
     ]
    }
   ],
   "source": [
    "my_nuclide = Nuclide(238, 92)\n",
    "print(my_nuclide.get_n())"
   ]
  }
 ],
 "metadata": {
  "kernelspec": {
   "display_name": "Python 3.9.13 ('py39')",
   "language": "python",
   "name": "python3"
  },
  "language_info": {
   "codemirror_mode": {
    "name": "ipython",
    "version": 3
   },
   "file_extension": ".py",
   "mimetype": "text/x-python",
   "name": "python",
   "nbconvert_exporter": "python",
   "pygments_lexer": "ipython3",
   "version": "3.11.0"
  },
  "vscode": {
   "interpreter": {
    "hash": "42dff8e0fad4cc34cd0db37ceedf446a4722cfff0b90d66efabf8d2fd60d5d71"
   }
  }
 },
 "nbformat": 4,
 "nbformat_minor": 4
}
