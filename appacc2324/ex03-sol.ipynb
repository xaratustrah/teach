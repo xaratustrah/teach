{
 "cells": [
  {
   "cell_type": "markdown",
   "metadata": {},
   "source": [
    "# Applications of Accelerators 2023/2024"
   ]
  },
  {
   "cell_type": "markdown",
   "metadata": {},
   "source": [
    "## Ex03"
   ]
  },
  {
   "cell_type": "markdown",
   "metadata": {},
   "source": [
    "Q1- Assuming you are using the Diamond Light Source with the circumference of 561.6 [m], for 190 [AMeV] 238-U-28+ calculate:"
   ]
  },
  {
   "cell_type": "markdown",
   "metadata": {},
   "source": [
    "A- [1 point] The magnetic rigidity"
   ]
  },
  {
   "cell_type": "code",
   "execution_count": 1,
   "metadata": {},
   "outputs": [],
   "source": [
    "import numpy as np\n",
    "c = 299792458 # [m/s]\n",
    "e = 1.602e-19 # [C]"
   ]
  },
  {
   "cell_type": "code",
   "execution_count": 2,
   "metadata": {},
   "outputs": [],
   "source": [
    "def get_gamma(TMeV, m_0_Mev_c2):\n",
    "    return TMeV/m_0_Mev_c2 + 1"
   ]
  },
  {
   "cell_type": "code",
   "execution_count": 3,
   "metadata": {},
   "outputs": [],
   "source": [
    "def get_beta(gamma):\n",
    "    return np.sqrt(1-1/gamma**2)"
   ]
  },
  {
   "cell_type": "code",
   "execution_count": 4,
   "metadata": {},
   "outputs": [],
   "source": [
    "def get_brho(gamma, m_0_Mev_c2, Q):\n",
    "    return gamma * get_beta(gamma) * c * m_0_Mev_c2 * 1.66e-27 / 931.494 / Q / e"
   ]
  },
  {
   "cell_type": "code",
   "execution_count": 5,
   "metadata": {},
   "outputs": [
    {
     "name": "stdout",
     "output_type": "stream",
     "text": [
      "17.70415279139022 [Tm]\n"
     ]
    }
   ],
   "source": [
    "print(get_brho(get_gamma(238*190, 238*931.494), 238*931.494, 28), '[Tm]')"
   ]
  },
  {
   "cell_type": "markdown",
   "metadata": {},
   "source": [
    "B- [1 point] Energy loss due to synchrotron radiation per turn"
   ]
  },
  {
   "cell_type": "code",
   "execution_count": 6,
   "metadata": {},
   "outputs": [],
   "source": [
    "def get_delta_e(gamma, Q, rho):\n",
    "    epsilon_0 = 8.854e-12 # [F/m]   \n",
    "    beta = get_beta(gamma)\n",
    "    print(f'gamma: {gamma}')\n",
    "    print(f'beta: {beta}')\n",
    "    return (Q*e)**2 * beta**3 * gamma**4 / 3 / epsilon_0 / rho"
   ]
  },
  {
   "cell_type": "code",
   "execution_count": 7,
   "metadata": {},
   "outputs": [
    {
     "name": "stdout",
     "output_type": "stream",
     "text": [
      "gamma: 1.2039734018683963\n",
      "beta: 0.5568946573760044\n",
      "delta_e:  3.0755288684902662e-27 [J]\n",
      "delta_e:  1.9195941112441814e-08 [eV]\n"
     ]
    }
   ],
   "source": [
    "gamma = get_gamma(238*190, 238*931.494)\n",
    "delta_e = get_delta_e(gamma, 28, 561.6 / 2 / np.pi)\n",
    "print('delta_e: ', delta_e, '[J]')\n",
    "print('delta_e: ', delta_e * 6.241509e18, '[eV]')"
   ]
  },
  {
   "cell_type": "markdown",
   "metadata": {},
   "source": [
    "C- [1 point] Opening angle of synchrotron radiation in DEGREEs"
   ]
  },
  {
   "cell_type": "code",
   "execution_count": 8,
   "metadata": {},
   "outputs": [],
   "source": [
    "def get_angle_degrees(gamma):\n",
    "    return np.rad2deg(1/gamma)"
   ]
  },
  {
   "cell_type": "code",
   "execution_count": 9,
   "metadata": {},
   "outputs": [
    {
     "name": "stdout",
     "output_type": "stream",
     "text": [
      "Opening angle: 47.58890804744306 [°]\n"
     ]
    }
   ],
   "source": [
    "print('Opening angle:', get_angle_degrees(gamma), '[°]')"
   ]
  },
  {
   "cell_type": "markdown",
   "metadata": {},
   "source": [
    "Q2- [3 point] Same as above, but for 410 [MeV/u] 197-Au-77+"
   ]
  },
  {
   "cell_type": "code",
   "execution_count": 10,
   "metadata": {},
   "outputs": [
    {
     "name": "stdout",
     "output_type": "stream",
     "text": [
      "gamma: 1.440153130347592\n",
      "beta: 0.7196175812953182\n",
      "brho: 8.236680464372766 [Tm]\n",
      "delta_e:  1.0273973883444641e-25 [J]\n",
      "delta_e:  6.412510045928468e-07 [eV]\n",
      "Opening angle: 39.78450506805033 [°]\n"
     ]
    }
   ],
   "source": [
    "gamma = get_gamma(197*410, 197*931.494)\n",
    "delta_e = get_delta_e(gamma, 77, 561.6 / 2 / np.pi)\n",
    "print('brho:', get_brho(gamma, 197*931.494, 77), '[Tm]')\n",
    "print('delta_e: ', delta_e, '[J]')\n",
    "print('delta_e: ', delta_e * 6.241509e18, '[eV]')\n",
    "print('Opening angle:', get_angle_degrees(gamma), '[°]')"
   ]
  },
  {
   "cell_type": "markdown",
   "metadata": {},
   "source": [
    "Q3- [3 point] same as above but for 10 [GeV] electrons"
   ]
  },
  {
   "cell_type": "code",
   "execution_count": 11,
   "metadata": {},
   "outputs": [
    {
     "name": "stdout",
     "output_type": "stream",
     "text": [
      "gamma: 19570.471624266145\n",
      "beta: 0.9999999986945284\n",
      "brho: 33.35096531376305 [Tm]\n",
      "delta_e:  1.5857042334469378e-12 [J]\n",
      "delta_e:  9897187.244397163 [eV]\n",
      "Opening angle: 0.0029276647294508317 [°]\n"
     ]
    }
   ],
   "source": [
    "gamma = get_gamma(10000, 0.511)\n",
    "delta_e = get_delta_e(gamma, 1, 561.6 / 2 / np.pi)\n",
    "print('brho:', get_brho(gamma, 0.511, 1), '[Tm]')\n",
    "print('delta_e: ', delta_e, '[J]')\n",
    "print('delta_e: ', delta_e * 6.241509e18, '[eV]')\n",
    "print('Opening angle:', get_angle_degrees(gamma), '[°]')"
   ]
  },
  {
   "cell_type": "markdown",
   "metadata": {},
   "source": [
    " <font color='blue'>You can clearly see how large the synchrotron radiation due to the electrons are.</font>"
   ]
  },
  {
   "cell_type": "markdown",
   "metadata": {},
   "source": [
    "Q4- [1 point] You usually need quadrupoles in synchrotrons and transfer lines otherwise you can not transport charged particles. How do people transport neutrons in the European Spallation Source (ESS) inside the pipes until they reach experiments?"
   ]
  },
  {
   "cell_type": "markdown",
   "metadata": {},
   "source": [
    " <font color='blue'>Neutrons can not be guided by magnets. Instead, pipes with polished inner surfaces are used to guide neutrons. Neutrons just bump / bounce until they reach the experimental place.</font>"
   ]
  },
  {
   "cell_type": "markdown",
   "metadata": {},
   "source": [
    "Q5- [1 point] Write in your own words, what is the advantage of sub-critical reactors and how does an accelerator help with that?"
   ]
  },
  {
   "cell_type": "markdown",
   "metadata": {},
   "source": [
    "<font color='blue'>Safer operation, since reaction is only driven by ion beams and burning of waste products to have lower half-lives. Also produces shorter lived radioactive waste.</font>"
   ]
  },
  {
   "cell_type": "markdown",
   "metadata": {},
   "source": [
    "Q6- [1 point] Write in your own words, what is beta function?"
   ]
  },
  {
   "cell_type": "markdown",
   "metadata": {},
   "source": [
    " <font color='blue'>Beta function describes the envelope of all possible particle trajectories for every position around the accelerator structure. </font>"
   ]
  },
  {
   "cell_type": "markdown",
   "metadata": {},
   "source": [
    "Q7- [1 point] Write in your own words, what is the Bragg peak in accelerator physics and where does it come from?"
   ]
  },
  {
   "cell_type": "markdown",
   "metadata": {},
   "source": [
    " <font color='blue'>When charged particles stop in matter, their collision cross section increases with decreasing energy so that shortly before stopping there is a peak energy transfer to the matter. This can be used for medical applications.</font>"
   ]
  },
  {
   "cell_type": "markdown",
   "metadata": {},
   "source": [
    "Q8- [1 point] Write a python function with the name of \"get_rigidity\" to calculate the magnetic rigidity and put your code as usual on your GitHUB and provide the link here. Test your code with the results of the previous exercise!\n",
    "\n",
    "Hint : please write as less code lines as possible by using advanced language features like the decorator \"np.vectorize\" and \"class\""
   ]
  },
  {
   "cell_type": "markdown",
   "metadata": {},
   "source": [
    " <font color='blue'>look above please, or using vectorize:</font>"
   ]
  },
  {
   "cell_type": "code",
   "execution_count": 12,
   "metadata": {},
   "outputs": [],
   "source": [
    "@np.vectorize\n",
    "def get_rigidity(TMeV, m_0_Mev_c2, Q):\n",
    "    gamma = TMeV/m_0_Mev_c2 + 1\n",
    "    return gamma * get_beta(gamma) * c * m_0_Mev_c2 * 1.66e-27 / 931.494 / Q / e"
   ]
  },
  {
   "cell_type": "code",
   "execution_count": 13,
   "metadata": {},
   "outputs": [
    {
     "data": {
      "text/plain": [
       "array([558.89154694, 279.44577347, 186.29718231, 139.72288674,\n",
       "       111.77830939,  93.14859116,  79.84164956,  69.86144337,\n",
       "        62.09906077,  55.88915469,  50.80832245,  46.57429558,\n",
       "        42.99165746,  39.92082478,  37.25943646,  34.93072168,\n",
       "        32.87597335,  31.04953039,  29.41534458,  27.94457735,\n",
       "        26.61388319,  25.40416122,  24.29963248,  23.28714779,\n",
       "        22.35566188,  21.49582873,  20.69968692,  19.96041239,\n",
       "        19.27212231,  18.62971823,  18.02875958,  17.46536084,\n",
       "        16.93610748,  16.43798667,  15.96832991,  15.52476519,\n",
       "        15.10517694,  14.70767229,  14.33055249,  13.97228867,\n",
       "        13.63150114,  13.30694159,  12.99747784,  12.70208061,\n",
       "        12.41981215,  12.14981624,  11.89130951,  11.64357389,\n",
       "        11.40594994,  11.17783094,  10.95865778,  10.74791436,\n",
       "        10.54512353,  10.34984346,  10.16166449,   9.9802062 ,\n",
       "         9.80511486,   9.63606115,   9.47273808,   9.31485912,\n",
       "         9.16215651,   9.01437979,   8.8712944 ,   8.73268042,\n",
       "         8.59833149,   8.46805374,   8.34166488,   8.21899334,\n",
       "         8.09987749,   7.98416496,   7.87171193,   7.7623826 ,\n",
       "         7.65604859,   7.55258847,   7.45188729,   7.35383614,\n",
       "         7.25833178])"
      ]
     },
     "execution_count": 13,
     "metadata": {},
     "output_type": "execute_result"
    }
   ],
   "source": [
    "# for a range of charge states of the above example for 330 [MeV/u] 197-Au-77+\n",
    "get_rigidity(330*197, 197*931.494, np.arange(1,78))"
   ]
  },
  {
   "cell_type": "markdown",
   "metadata": {},
   "source": [
    " <font color='blue'>You can see the effect of the charge state on magnetic rigidity.</font>"
   ]
  },
  {
   "cell_type": "markdown",
   "metadata": {},
   "source": [
    "Q9- [1 point] From the accelerator department, you received some data (see the attached data file: 2016-07-11_ipm_data.txt) from an ionisation beam profile monitor (IPM). Read the file and plot it in blue color on a black grid background. The mark the maximum with a red dot! Code and plot (PNG) as usual on GitHUB.\n",
    "\n",
    "- Hint 1: The program is really short! Use np.genfromtext, matplotlib, savefig etc...\n",
    "- Hint 2: please do not do magic while programming! There is always a command that can actually do what you are planing to do, just use it. Search internet please.\n"
   ]
  },
  {
   "cell_type": "code",
   "execution_count": 14,
   "metadata": {},
   "outputs": [
    {
     "data": {
      "image/png": "[encoded data removed]",
      "text/plain": [
       "<Figure size 640x480 with 1 Axes>"
      ]
     },
     "metadata": {},
     "output_type": "display_data"
    }
   ],
   "source": [
    "import matplotlib.pyplot as plt\n",
    "\n",
    "filename = '2016-07-11_ipm_data.txt'\n",
    "data = np.genfromtxt(filename)\n",
    "\n",
    "plt.plot(data, 'b')\n",
    "plt.plot(np.argmax(data), np.max(data), 'ro')\n",
    "plt.grid(True)\n",
    "plt.savefig(filename+'.png')"
   ]
  },
  {
   "cell_type": "code",
   "execution_count": null,
   "metadata": {},
   "outputs": [],
   "source": []
  }
 ],
 "metadata": {
  "kernelspec": {
   "display_name": "Python 3.10.5 ('pyroot')",
   "language": "python",
   "name": "python3"
  },
  "language_info": {
   "codemirror_mode": {
    "name": "ipython",
    "version": 3
   },
   "file_extension": ".py",
   "mimetype": "text/x-python",
   "name": "python",
   "nbconvert_exporter": "python",
   "pygments_lexer": "ipython3",
   "version": "3.10.13"
  },
  "vscode": {
   "interpreter": {
    "hash": "c6e00576d5ddabaf634c77b8111b310acf1333bcfcc8db07f8f539e64bac67f4"
   }
  }
 },
 "nbformat": 4,
 "nbformat_minor": 4
}
