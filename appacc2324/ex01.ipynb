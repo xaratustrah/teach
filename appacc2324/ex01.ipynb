{
 "cells": [
  {
   "cell_type": "markdown",
   "metadata": {},
   "source": [
    "# Applications of Accelerators 2023/2024"
   ]
  },
  {
   "cell_type": "markdown",
   "metadata": {},
   "source": [
    "## Ex01"
   ]
  },
  {
   "cell_type": "markdown",
   "metadata": {},
   "source": [
    "Q1- [1 point] Write in your own words, which force is most suitable for particle acceleration and why?"
   ]
  },
  {
   "cell_type": "markdown",
   "metadata": {},
   "source": [
    "Q2- [1 point] Calculate the force acted on a neutron that travels at the speed of 0.4c, affected only by a magnetic field of 1.5 [T]."
   ]
  },
  {
   "cell_type": "markdown",
   "metadata": {},
   "source": [
    "Q3- [1 point] Identify the heaviest of the leptons and the heaviest of the quarks and find out their mass by looking up in table / internet and write it here with units. "
   ]
  },
  {
   "cell_type": "markdown",
   "metadata": {},
   "source": [
    "Q4- [1 point] Give a rough estimate how much heavier is a proton compared to an electron?"
   ]
  },
  {
   "cell_type": "markdown",
   "metadata": {},
   "source": [
    "Q5- [1 point] Write *very short* definitions and classify the following concepts in groups:\n",
    "\n",
    "Fermions\n",
    "Bosons\n",
    "Mesons\n",
    "Hadrons\n",
    "Baryons\n",
    "Leptons"
   ]
  },
  {
   "cell_type": "markdown",
   "metadata": {},
   "source": [
    "Q6- [1 point] Which one of the elementary fermions is usually accelerated in an accelerator?"
   ]
  },
  {
   "cell_type": "markdown",
   "metadata": {},
   "source": [
    "Q7- [1 point] Up and down quarks have a mass of the order 5 [$MeV/c^2$]. Why then is proton so heavy?"
   ]
  },
  {
   "cell_type": "markdown",
   "metadata": {},
   "source": [
    "Q8- [1 point] Identify the coolest lepton! (spoiler: it is the muon). What is its mean life time and why do we detect atmospheric muons in the lab?"
   ]
  },
  {
   "cell_type": "markdown",
   "metadata": {},
   "source": [
    "Q9- [1 point] A linear accelerator can accelerate protons to 1.4 [TeV]. What is the available CoM energy if we shoot the protons on a fixed Beryllium target for an industrial application? What would be the available CoM energy if we use two such accelerators to form a collider?"
   ]
  },
  {
   "cell_type": "markdown",
   "metadata": {},
   "source": [
    "Q10- [1 point] How much voltage is needed to accelerate an electron to an energy of 5e-4 [J]?"
   ]
  },
  {
   "cell_type": "markdown",
   "metadata": {},
   "source": [
    "Q11- [2 points] Warmup computational exersize:\n",
    "\n",
    "    Create a GitHUB account.\n",
    "    Write a function in Python code that multiples 2 (two) 3x3 Matrices (ndarray) and returns the result.\n",
    "    Call this function using two randomly generated 3 by 3 matrices and print the results.\n",
    "    Place your code in your GitHUB repository and submit the link in your exercise document. The code can also be in the form of a Jupiter-Notebook on your GitHUB account.\n",
    "\n",
    "Hint: if you have no previous experience with python: it is easy!\n",
    "Hint: if you don't have time to learn python: it doesn't take time!"
   ]
  }
 ],
 "metadata": {
  "kernelspec": {
   "display_name": "Python 3.9.13 ('py39')",
   "language": "python",
   "name": "python3"
  },
  "language_info": {
   "codemirror_mode": {
    "name": "ipython",
    "version": 3
   },
   "file_extension": ".py",
   "mimetype": "text/x-python",
   "name": "python",
   "nbconvert_exporter": "python",
   "pygments_lexer": "ipython3",
   "version": "3.11.0"
  },
  "vscode": {
   "interpreter": {
    "hash": "42dff8e0fad4cc34cd0db37ceedf446a4722cfff0b90d66efabf8d2fd60d5d71"
   }
  }
 },
 "nbformat": 4,
 "nbformat_minor": 4
}
